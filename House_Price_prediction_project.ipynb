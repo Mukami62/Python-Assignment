{
 "cells": [
  {
   "cell_type": "code",
   "execution_count": 113,
   "id": "c0d78a73",
   "metadata": {},
   "outputs": [],
   "source": [
    "import pandas as pd \n",
    "import numpy as np \n",
    "import psycopg2"
   ]
  },
  {
   "cell_type": "code",
   "execution_count": null,
   "id": "8e2ce005",
   "metadata": {},
   "outputs": [
    {
     "name": "stderr",
     "output_type": "stream",
     "text": [
      "C:\\Users\\USER\\AppData\\Local\\Temp\\ipykernel_8432\\1076509644.py:15: UserWarning: pandas only supports SQLAlchemy connectable (engine/connection) or database string URI or sqlite3 DBAPI2 connection. Other DBAPI2 objects are not tested. Please consider using SQLAlchemy.\n",
      "  df = pd.read_sql_query(query, conn)\n"
     ]
    },
    {
     "name": "stdout",
     "output_type": "stream",
     "text": [
      "    BedRooms   Bath rooms  Size_sqft  location  year built  Garage Available  \\\n",
      "0         3.0         1.0       1149     Rural        2004               NaN   \n",
      "1         NaN         2.0       1169     Rural        1989               1.0   \n",
      "2         4.0         3.0       1409  Suburban        1993               1.0   \n",
      "3         3.0         3.0       1647  Suburban        2021               0.0   \n",
      "4         2.0         3.0       1865     Urban        2009               0.0   \n",
      "\n",
      "    Furnishing House Condition  Has_Pool  Lot Size  Price($)  \n",
      "0  Unfurnished             new       0.0      0.15    244043  \n",
      "1                          Old       0.0      0.23    211250  \n",
      "2  Unfurnished              gd       0.0      0.19    257239  \n",
      "3                          new       0.0      0.27    310316  \n",
      "4     furnised             old       1.0      0.39    334791  \n"
     ]
    }
   ],
   "source": [
    "\n",
    "# 1️⃣ Connect using psycopg2 directly\n",
    "conn = psycopg2.connect(\n",
    "    dbname = \"YOUR_DB_NAME\",\n",
    "    user = \"YOUR_USERNAME\",\n",
    "    password = \"YOUR_PASSWORD\",\n",
    "    host = \"YOUR_HOST\",\n",
    "    port = \"YOUR_PORT\",\n",
    "    sslmode=\"require\n",
    ")\n",
    "\n",
    "# 2️⃣ Write your SQL query\n",
    "query = \"SELECT * FROM luxsql.property_data;\"\n",
    "\n",
    "# 3️⃣ Read into pandas using the psycopg2 connection\n",
    "df = pd.read_sql_query(query, conn)\n",
    "\n",
    "# 4️⃣ Preview\n",
    "print(df.head())\n",
    "\n",
    "# 5️⃣ Close connection\n",
    "conn.close()\n",
    "\n"
   ]
  },
  {
   "cell_type": "code",
   "execution_count": 115,
   "id": "a53e8b7c",
   "metadata": {},
   "outputs": [
    {
     "name": "stdout",
     "output_type": "stream",
     "text": [
      "<class 'pandas.core.frame.DataFrame'>\n",
      "RangeIndex: 1000 entries, 0 to 999\n",
      "Data columns (total 11 columns):\n",
      " #   Column            Non-Null Count  Dtype  \n",
      "---  ------            --------------  -----  \n",
      " 0    BedRooms         954 non-null    float64\n",
      " 1   Bath rooms        941 non-null    float64\n",
      " 2   Size_sqft         1000 non-null   int64  \n",
      " 3   location          1000 non-null   object \n",
      " 4   year built        1000 non-null   int64  \n",
      " 5   Garage Available  896 non-null    float64\n",
      " 6   Furnishing        1000 non-null   object \n",
      " 7   House Condition   1000 non-null   object \n",
      " 8   Has_Pool          945 non-null    float64\n",
      " 9   Lot Size          1000 non-null   float64\n",
      " 10  Price($)          1000 non-null   int64  \n",
      "dtypes: float64(5), int64(3), object(3)\n",
      "memory usage: 86.1+ KB\n"
     ]
    }
   ],
   "source": [
    "df.info()"
   ]
  },
  {
   "cell_type": "code",
   "execution_count": 116,
   "id": "dd51c45a",
   "metadata": {},
   "outputs": [
    {
     "data": {
      "text/plain": [
       "(1000, 11)"
      ]
     },
     "execution_count": 116,
     "metadata": {},
     "output_type": "execute_result"
    }
   ],
   "source": [
    "df.shape"
   ]
  },
  {
   "cell_type": "code",
   "execution_count": 117,
   "id": "6e487c18",
   "metadata": {},
   "outputs": [
    {
     "data": {
      "text/html": [
       "<div>\n",
       "<style scoped>\n",
       "    .dataframe tbody tr th:only-of-type {\n",
       "        vertical-align: middle;\n",
       "    }\n",
       "\n",
       "    .dataframe tbody tr th {\n",
       "        vertical-align: top;\n",
       "    }\n",
       "\n",
       "    .dataframe thead th {\n",
       "        text-align: right;\n",
       "    }\n",
       "</style>\n",
       "<table border=\"1\" class=\"dataframe\">\n",
       "  <thead>\n",
       "    <tr style=\"text-align: right;\">\n",
       "      <th></th>\n",
       "      <th>BedRooms</th>\n",
       "      <th>Bath rooms</th>\n",
       "      <th>Size_sqft</th>\n",
       "      <th>year built</th>\n",
       "      <th>Garage Available</th>\n",
       "      <th>Has_Pool</th>\n",
       "      <th>Lot Size</th>\n",
       "      <th>Price($)</th>\n",
       "    </tr>\n",
       "  </thead>\n",
       "  <tbody>\n",
       "    <tr>\n",
       "      <th>count</th>\n",
       "      <td>954.000000</td>\n",
       "      <td>941.000000</td>\n",
       "      <td>1000.000000</td>\n",
       "      <td>1000.00000</td>\n",
       "      <td>896.000000</td>\n",
       "      <td>945.000000</td>\n",
       "      <td>1000.00000</td>\n",
       "      <td>1000.000000</td>\n",
       "    </tr>\n",
       "    <tr>\n",
       "      <th>mean</th>\n",
       "      <td>2.912998</td>\n",
       "      <td>1.989373</td>\n",
       "      <td>1505.170000</td>\n",
       "      <td>2001.59500</td>\n",
       "      <td>0.533482</td>\n",
       "      <td>0.280423</td>\n",
       "      <td>0.25540</td>\n",
       "      <td>277133.174000</td>\n",
       "    </tr>\n",
       "    <tr>\n",
       "      <th>std</th>\n",
       "      <td>1.161547</td>\n",
       "      <td>0.836592</td>\n",
       "      <td>391.257815</td>\n",
       "      <td>12.42511</td>\n",
       "      <td>0.499156</td>\n",
       "      <td>0.449444</td>\n",
       "      <td>0.13628</td>\n",
       "      <td>59963.752729</td>\n",
       "    </tr>\n",
       "    <tr>\n",
       "      <th>min</th>\n",
       "      <td>1.000000</td>\n",
       "      <td>1.000000</td>\n",
       "      <td>292.000000</td>\n",
       "      <td>1980.00000</td>\n",
       "      <td>0.000000</td>\n",
       "      <td>0.000000</td>\n",
       "      <td>0.00000</td>\n",
       "      <td>87752.000000</td>\n",
       "    </tr>\n",
       "    <tr>\n",
       "      <th>25%</th>\n",
       "      <td>2.000000</td>\n",
       "      <td>1.000000</td>\n",
       "      <td>1241.750000</td>\n",
       "      <td>1991.00000</td>\n",
       "      <td>0.000000</td>\n",
       "      <td>0.000000</td>\n",
       "      <td>0.15000</td>\n",
       "      <td>236922.250000</td>\n",
       "    </tr>\n",
       "    <tr>\n",
       "      <th>50%</th>\n",
       "      <td>3.000000</td>\n",
       "      <td>2.000000</td>\n",
       "      <td>1500.000000</td>\n",
       "      <td>2002.00000</td>\n",
       "      <td>1.000000</td>\n",
       "      <td>0.000000</td>\n",
       "      <td>0.25000</td>\n",
       "      <td>277263.500000</td>\n",
       "    </tr>\n",
       "    <tr>\n",
       "      <th>75%</th>\n",
       "      <td>4.000000</td>\n",
       "      <td>3.000000</td>\n",
       "      <td>1769.000000</td>\n",
       "      <td>2012.00000</td>\n",
       "      <td>1.000000</td>\n",
       "      <td>1.000000</td>\n",
       "      <td>0.35000</td>\n",
       "      <td>317508.250000</td>\n",
       "    </tr>\n",
       "    <tr>\n",
       "      <th>max</th>\n",
       "      <td>5.000000</td>\n",
       "      <td>4.000000</td>\n",
       "      <td>2777.000000</td>\n",
       "      <td>2023.00000</td>\n",
       "      <td>1.000000</td>\n",
       "      <td>1.000000</td>\n",
       "      <td>0.76000</td>\n",
       "      <td>481326.000000</td>\n",
       "    </tr>\n",
       "  </tbody>\n",
       "</table>\n",
       "</div>"
      ],
      "text/plain": [
       "        BedRooms   Bath rooms    Size_sqft  year built  Garage Available  \\\n",
       "count  954.000000  941.000000  1000.000000  1000.00000        896.000000   \n",
       "mean     2.912998    1.989373  1505.170000  2001.59500          0.533482   \n",
       "std      1.161547    0.836592   391.257815    12.42511          0.499156   \n",
       "min      1.000000    1.000000   292.000000  1980.00000          0.000000   \n",
       "25%      2.000000    1.000000  1241.750000  1991.00000          0.000000   \n",
       "50%      3.000000    2.000000  1500.000000  2002.00000          1.000000   \n",
       "75%      4.000000    3.000000  1769.000000  2012.00000          1.000000   \n",
       "max      5.000000    4.000000  2777.000000  2023.00000          1.000000   \n",
       "\n",
       "         Has_Pool    Lot Size       Price($)  \n",
       "count  945.000000  1000.00000    1000.000000  \n",
       "mean     0.280423     0.25540  277133.174000  \n",
       "std      0.449444     0.13628   59963.752729  \n",
       "min      0.000000     0.00000   87752.000000  \n",
       "25%      0.000000     0.15000  236922.250000  \n",
       "50%      0.000000     0.25000  277263.500000  \n",
       "75%      1.000000     0.35000  317508.250000  \n",
       "max      1.000000     0.76000  481326.000000  "
      ]
     },
     "execution_count": 117,
     "metadata": {},
     "output_type": "execute_result"
    }
   ],
   "source": [
    "df.describe()"
   ]
  },
  {
   "cell_type": "code",
   "execution_count": 118,
   "id": "d703a610",
   "metadata": {},
   "outputs": [
    {
     "name": "stdout",
     "output_type": "stream",
     "text": [
      "Index(['Bedrooms', 'Bath_rooms', 'Size_sqft', 'Location', 'Year_built',\n",
      "       'Garage_available', 'Furnishing', 'House_condition', 'Has_pool',\n",
      "       'Lot_size', 'Price$'],\n",
      "      dtype='object')\n"
     ]
    }
   ],
   "source": [
    "# Removing whitespaces and capitalizing first letters of te column titles\n",
    "df.columns = (\n",
    "    df.columns\n",
    "    .str.strip()\n",
    "    .str.replace(\" \", \"_\")\n",
    "    .str.replace(\"(\", \"\")\n",
    "    .str.replace(\")\", \"\")\n",
    "    .str.capitalize()\n",
    ")\n",
    "print (df.columns)"
   ]
  },
  {
   "cell_type": "code",
   "execution_count": 119,
   "id": "42933055",
   "metadata": {},
   "outputs": [],
   "source": [
    "# Fill NaNs in Bedrooms with the median\n",
    "df[\"Bedrooms\"] = df[\"Bedrooms\"].fillna(df[\"Bedrooms\"].median())"
   ]
  },
  {
   "cell_type": "code",
   "execution_count": 120,
   "id": "37b2cac8",
   "metadata": {},
   "outputs": [],
   "source": [
    "# Fill NaNs in Bath_rooms with the median\n",
    "df[\"Bath_rooms\"] = df[\"Bath_rooms\"].fillna(df[\"Bath_rooms\"].median())"
   ]
  },
  {
   "cell_type": "code",
   "execution_count": 121,
   "id": "446adfb8",
   "metadata": {},
   "outputs": [],
   "source": [
    "# Fill NaNs in Garage_available with the mode\n",
    "df[\"Garage_available\"] = df[\"Garage_available\"].fillna(df[\"Garage_available\"].mode()[0])"
   ]
  },
  {
   "cell_type": "code",
   "execution_count": 122,
   "id": "006fb2d9",
   "metadata": {},
   "outputs": [],
   "source": [
    "# Fill NaNs in Has_pool with the mode\n",
    "df[\"Has_pool\"] = df[\"Has_pool\"].fillna(df[\"Has_pool\"].mode()[0])"
   ]
  },
  {
   "cell_type": "code",
   "execution_count": 123,
   "id": "9d346ccb",
   "metadata": {},
   "outputs": [
    {
     "name": "stdout",
     "output_type": "stream",
     "text": [
      "['unfurnished' 'unknown' 'furnished' 'semi furnished']\n"
     ]
    }
   ],
   "source": [
    "# Standardizing case, stripping spaces, correcting  and filling blank spaces if any in furnishing column\n",
    "df[\"Furnishing\"] = df[\"Furnishing\"].str.strip().str.lower()\n",
    "\n",
    "furnishing_map = {\n",
    "    \"\": \"unknown\",            \n",
    "    \"furnised\": \"furnished\",\n",
    "    \"furnished\": \"furnished\",\n",
    "    \"semi furnished\": \"semi furnished\",\n",
    "    \"semi-furnished\": \"semi furnished\",\n",
    "    \"unfurnished\": \"unfurnished\"\n",
    "}\n",
    "df[\"Furnishing\"] = df[\"Furnishing\"].replace(furnishing_map)\n",
    "print(df[\"Furnishing\"].unique())"
   ]
  },
  {
   "cell_type": "code",
   "execution_count": 124,
   "id": "e78b3061",
   "metadata": {},
   "outputs": [
    {
     "name": "stdout",
     "output_type": "stream",
     "text": [
      "['rural' 'sub-urban' 'urban']\n"
     ]
    }
   ],
   "source": [
    "# Standardizing case, stripping spaces, correcting  and filling blank spaces if any in location column\n",
    "df[\"Location\"] = df[\"Location\"].str.strip().str.lower()\n",
    "location_map = {\n",
    "    \"\": \"unknown\",\n",
    "    \"rural\": \"rural\",\n",
    "    \"ruraal\": \"rural\",\n",
    "    \"suburban\": \"sub-urban\",\n",
    "    \"sub-urban\": \"sub-urban\",\n",
    "    \"urban\": \"urban\",\n",
    "    \"urbn\": \"urban\"\n",
    "}\n",
    "df[\"Location\"] = df[\"Location\"].replace(location_map)\n",
    "\n",
    "print(df[\"Location\"].unique())"
   ]
  },
  {
   "cell_type": "code",
   "execution_count": 125,
   "id": "3b6fb018",
   "metadata": {},
   "outputs": [
    {
     "name": "stdout",
     "output_type": "stream",
     "text": [
      "['new' 'old' 'good']\n"
     ]
    }
   ],
   "source": [
    "# Standardizing case, stripping spaces and correcting 'House_condition' column\n",
    "df['House_condition'] = df['House_condition'].str.lower().str.strip()\n",
    "df['House_condition'] = df['House_condition'].replace({\n",
    "    'gd': 'good',\n",
    "    'old': 'old',\n",
    "    'new': 'new'\n",
    "})\n",
    "\n",
    "# Display unique values after cleaning\n",
    "print(df['House_condition'].unique())\n"
   ]
  },
  {
   "cell_type": "code",
   "execution_count": 126,
   "id": "071e2d9b",
   "metadata": {},
   "outputs": [
    {
     "name": "stdout",
     "output_type": "stream",
     "text": [
      "  House_condition  House_condition_encoded\n",
      "0             new                        1\n",
      "1             old                        2\n",
      "2            good                        0\n",
      "3             new                        1\n",
      "4             old                        2\n"
     ]
    }
   ],
   "source": [
    "#Encoding the House_condition column\n",
    "from sklearn.preprocessing import LabelEncoder\n",
    "\n",
    "le = LabelEncoder()\n",
    "df['House_condition_encoded'] = le.fit_transform(df['House_condition'])\n",
    "\n",
    "print(df[['House_condition', 'House_condition_encoded']].head())\n"
   ]
  },
  {
   "cell_type": "code",
   "execution_count": 127,
   "id": "7d6a9784",
   "metadata": {},
   "outputs": [
    {
     "name": "stdout",
     "output_type": "stream",
     "text": [
      "    Location  Location_encoded\n",
      "0      rural                 0\n",
      "1      rural                 0\n",
      "2  sub-urban                 1\n",
      "3  sub-urban                 1\n",
      "4      urban                 2\n"
     ]
    }
   ],
   "source": [
    "#Encoding the location column\n",
    "le = LabelEncoder()\n",
    "df['Location_encoded'] = le.fit_transform(df['Location'])\n",
    "\n",
    "print(df[['Location', 'Location_encoded']].head())\n"
   ]
  },
  {
   "cell_type": "code",
   "execution_count": 128,
   "id": "1a58edf7",
   "metadata": {},
   "outputs": [
    {
     "name": "stdout",
     "output_type": "stream",
     "text": [
      "    Furnishing  Furnishing_encoded\n",
      "0  unfurnished                   2\n",
      "1      unknown                   3\n",
      "2  unfurnished                   2\n",
      "3      unknown                   3\n",
      "4    furnished                   0\n"
     ]
    }
   ],
   "source": [
    "#Encoding the furnishing column \n",
    "le = LabelEncoder()\n",
    "df['Furnishing_encoded'] = le.fit_transform(df['Furnishing'])\n",
    "\n",
    "print(df[['Furnishing', 'Furnishing_encoded']].head())"
   ]
  },
  {
   "cell_type": "code",
   "execution_count": 129,
   "id": "53213595",
   "metadata": {},
   "outputs": [
    {
     "name": "stdout",
     "output_type": "stream",
     "text": [
      "   Year_built  House_age\n",
      "0        2004         21\n",
      "1        1989         36\n",
      "2        1993         32\n",
      "3        2021          4\n",
      "4        2009         16\n"
     ]
    }
   ],
   "source": [
    "#Getting the age of the houses so we dont have to work with years\n",
    "from datetime import datetime\n",
    "current_year = datetime.now().year\n",
    "\n",
    "# Create a new column 'House_age'\n",
    "df['House_age'] = current_year - df['Year_built']\n",
    "\n",
    "# Preview\n",
    "print(df[['Year_built', 'House_age']].head())\n"
   ]
  },
  {
   "cell_type": "code",
   "execution_count": 130,
   "id": "97a87e84",
   "metadata": {},
   "outputs": [],
   "source": [
    "# Dropping the categorical and year columns because linear regression cannot work with text or word columns\n",
    "df = df.drop(['House_condition', 'Location', 'Furnishing', 'Year_built'], axis=1)"
   ]
  },
  {
   "cell_type": "code",
   "execution_count": 131,
   "id": "32594737",
   "metadata": {},
   "outputs": [
    {
     "data": {
      "image/png": "[encoded data removed]",
      "text/plain": [
       "<Figure size 600x600 with 1 Axes>"
      ]
     },
     "metadata": {},
     "output_type": "display_data"
    }
   ],
   "source": [
    "#visualizing the price column with the outliers\n",
    "import matplotlib.pyplot as plt\n",
    "import seaborn as sns\n",
    "\n",
    "plt.figure(figsize=(6,6))\n",
    "sns.boxplot(y=df['Price$'])\n",
    "plt.title(\"Boxplot of Price$ \")\n",
    "plt.show()"
   ]
  },
  {
   "cell_type": "code",
   "execution_count": 132,
   "id": "7c97ab88",
   "metadata": {},
   "outputs": [
    {
     "name": "stdout",
     "output_type": "stream",
     "text": [
      "Number of outliers in Price$: 10\n",
      "Removed outliers: (990, 11)\n"
     ]
    }
   ],
   "source": [
    "#Calculating and dropping outliers in the price column to avoid distorting the models's learning\n",
    "Q1 = df['Price$'].quantile(0.25)\n",
    "Q3 = df['Price$'].quantile(0.75)\n",
    "IQR = Q3 - Q1\n",
    "\n",
    "# Defining lower and upper bounds\n",
    "lower_bound = Q1 - 1.5 * IQR\n",
    "upper_bound = Q3 + 1.5 * IQR\n",
    "\n",
    "# Identifying outliers\n",
    "price_outliers = df[(df['Price$'] < lower_bound) | (df['Price$'] > upper_bound)]\n",
    "print(\"Number of outliers in Price$:\", len(price_outliers))\n",
    "\n",
    "# Removing outliers\n",
    "df_clean = df[(df['Price$'] >= lower_bound) & (df['Price$'] <= upper_bound)]\n",
    "print(\"Removed outliers:\", df_clean.shape)\n"
   ]
  },
  {
   "cell_type": "code",
   "execution_count": 133,
   "id": "5179f406",
   "metadata": {},
   "outputs": [],
   "source": [
    "#Splitting data into training and testing parts\n",
    "from sklearn.linear_model import LinearRegression\n",
    "from sklearn.model_selection import train_test_split\n",
    "from sklearn.metrics import r2_score\n",
    "import matplotlib.pyplot as plt\n",
    "\n",
    "# Features and target\n",
    "X = df_clean.drop('Price$', axis=1)\n",
    "y = df_clean['Price$']\n",
    "\n",
    "# Train-test split\n",
    "X_train, X_test, y_train, y_test = train_test_split(X, y, test_size=0.2, random_state=42)\n"
   ]
  },
  {
   "cell_type": "code",
   "execution_count": 134,
   "id": "85e722e5",
   "metadata": {},
   "outputs": [],
   "source": [
    "#Building and training the model to predict prices\n",
    "model = LinearRegression()\n",
    "model.fit(X_train, y_train)\n",
    "\n",
    "# Predictions\n",
    "y_pred = model.predict(X_test)\n",
    "\n"
   ]
  },
  {
   "cell_type": "code",
   "execution_count": 135,
   "id": "9c5a62e1",
   "metadata": {},
   "outputs": [
    {
     "data": {
      "image/png": "[encoded data removed]",
      "text/plain": [
       "<Figure size 700x700 with 1 Axes>"
      ]
     },
     "metadata": {},
     "output_type": "display_data"
    }
   ],
   "source": [
    "#Plotting a line of best fit for actual and predicted prices\n",
    "plt.figure(figsize=(7,7))\n",
    "plt.scatter(y_test, y_pred, alpha=0.6)\n",
    "plt.plot([y_test.min(), y_test.max()], [y_test.min(), y_test.max()], 'r--', lw=2)\n",
    "\n",
    "plt.xlabel(\"Actual Price$\")\n",
    "plt.ylabel(\"Predicted Price$\")\n",
    "plt.title(\"Actual vs Predicted Prices (Regression)\")\n",
    "plt.show()\n"
   ]
  },
  {
   "cell_type": "code",
   "execution_count": 136,
   "id": "d3888543",
   "metadata": {},
   "outputs": [
    {
     "name": "stdout",
     "output_type": "stream",
     "text": [
      "R² Score: 0.9621895574148615\n",
      "MAE: 8789.4736307255\n",
      "MSE: 121093068.03812408\n",
      "RMSE: 11004.22955222782\n"
     ]
    }
   ],
   "source": [
    "#Evaluating performance of the model\n",
    "from sklearn.metrics import r2_score, mean_absolute_error, mean_squared_error\n",
    "import numpy as np\n",
    "\n",
    "# R²\n",
    "r2 = r2_score(y_test, y_pred)\n",
    "\n",
    "# MAE (Mean Absolute Error)\n",
    "mae = mean_absolute_error(y_test, y_pred)\n",
    "\n",
    "# MSE (Mean Squared Error)\n",
    "mse = mean_squared_error(y_test, y_pred)\n",
    "\n",
    "# RMSE (Root Mean Squared Error)\n",
    "rmse = np.sqrt(mse)\n",
    "\n",
    "print(\"R² Score:\", r2)\n",
    "print(\"MAE:\", mae)\n",
    "print(\"MSE:\", mse)\n",
    "print(\"RMSE:\", rmse)\n"
   ]
  }
 ],
 "metadata": {
  "kernelspec": {
   "display_name": "base",
   "language": "python",
   "name": "python3"
  },
  "language_info": {
   "codemirror_mode": {
    "name": "ipython",
    "version": 3
   },
   "file_extension": ".py",
   "mimetype": "text/x-python",
   "name": "python",
   "nbconvert_exporter": "python",
   "pygments_lexer": "ipython3",
   "version": "3.13.5"
  }
 },
 "nbformat": 4,
 "nbformat_minor": 5
}
